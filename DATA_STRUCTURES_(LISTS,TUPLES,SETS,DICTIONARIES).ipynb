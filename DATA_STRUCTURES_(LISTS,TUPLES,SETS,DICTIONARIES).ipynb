{
  "nbformat": 4,
  "nbformat_minor": 0,
  "metadata": {
    "colab": {
      "provenance": [],
      "authorship_tag": "ABX9TyNWN0PvgHSJHKMMmy+7XKFK",
      "include_colab_link": true
    },
    "kernelspec": {
      "name": "python3",
      "display_name": "Python 3"
    },
    "language_info": {
      "name": "python"
    }
  },
  "cells": [
    {
      "cell_type": "markdown",
      "metadata": {
        "id": "view-in-github",
        "colab_type": "text"
      },
      "source": [
        "<a href=\"https://colab.research.google.com/github/SaraNzuki/test/blob/main/DATA_STRUCTURES_(LISTS%2CTUPLES%2CSETS%2CDICTIONARIES).ipynb\" target=\"_parent\"><img src=\"https://colab.research.google.com/assets/colab-badge.svg\" alt=\"Open In Colab\"/></a>"
      ]
    },
    {
      "cell_type": "markdown",
      "source": [
        "# 1. **Lists**"
      ],
      "metadata": {
        "id": "aFM7wWgxyrdA"
      }
    },
    {
      "cell_type": "code",
      "source": [
        "#creating lists with basic numbers and strings\n",
        "my_list = [100,200,300,\"pineapple\",\"orange\"]\n",
        "print(my_list)"
      ],
      "metadata": {
        "colab": {
          "base_uri": "https://localhost:8080/"
        },
        "id": "oWk4pziWyu_z",
        "outputId": "f61eb6b3-0beb-43bb-fe4a-2d40a5098570"
      },
      "execution_count": null,
      "outputs": [
        {
          "output_type": "stream",
          "name": "stdout",
          "text": [
            "[100, 200, 300, 'pineapple', 'orange']\n"
          ]
        }
      ]
    },
    {
      "cell_type": "markdown",
      "source": [
        "*Accessing elements*"
      ],
      "metadata": {
        "id": "BwtnpinXC7vh"
      }
    },
    {
      "cell_type": "code",
      "source": [
        "#accessing elements(indexing)\n",
        "#accessing elements is sequaencial and begins from 0, so 100 is 0, 200 is 1 etc\n",
        "first_element = my_list[0]\n",
        "first_element"
      ],
      "metadata": {
        "colab": {
          "base_uri": "https://localhost:8080/"
        },
        "id": "PlxAS-6HzNsb",
        "outputId": "b87a80f3-27f8-42b1-c965-292952e6bc26"
      },
      "execution_count": null,
      "outputs": [
        {
          "output_type": "execute_result",
          "data": {
            "text/plain": [
              "100"
            ]
          },
          "metadata": {},
          "execution_count": 3
        }
      ]
    },
    {
      "cell_type": "code",
      "source": [
        "#accessing the last element in a list of many items:\n",
        "last_element = my_list[-1]\n",
        "last_element"
      ],
      "metadata": {
        "colab": {
          "base_uri": "https://localhost:8080/",
          "height": 35
        },
        "id": "FdbsSnGuzoWH",
        "outputId": "875d41d4-5bbb-4ca1-d650-40273726427b"
      },
      "execution_count": null,
      "outputs": [
        {
          "output_type": "execute_result",
          "data": {
            "text/plain": [
              "'orange'"
            ],
            "application/vnd.google.colaboratory.intrinsic+json": {
              "type": "string"
            }
          },
          "metadata": {},
          "execution_count": 5
        }
      ]
    },
    {
      "cell_type": "markdown",
      "source": [
        "*Slicing Lists*"
      ],
      "metadata": {
        "id": "Xj4TPGOFDRO-"
      }
    },
    {
      "cell_type": "code",
      "source": [
        "#accessing a part of the list; i.e. index 1-3 (sub-list),\n",
        "#the last index added is normally excluded\n",
        "#in the code below it will exclude 4 which is orange in the list\n",
        "sub_list = my_list[1:4]\n",
        "sub_list"
      ],
      "metadata": {
        "colab": {
          "base_uri": "https://localhost:8080/"
        },
        "id": "QPKkkA120lac",
        "outputId": "d1283898-7366-466b-ac95-383e0d98ae10"
      },
      "execution_count": null,
      "outputs": [
        {
          "output_type": "execute_result",
          "data": {
            "text/plain": [
              "[200, 300, 'pineapple']"
            ]
          },
          "metadata": {},
          "execution_count": 7
        }
      ]
    },
    {
      "cell_type": "markdown",
      "source": [
        "*Modifying lists*"
      ],
      "metadata": {
        "id": "6GQcyKJc2CBb"
      }
    },
    {
      "cell_type": "code",
      "source": [
        "#changing an element to something else eg: changing element  in index 1; 200 to berry\n",
        "my_list[1] = \"berry\"\n",
        "my_list"
      ],
      "metadata": {
        "colab": {
          "base_uri": "https://localhost:8080/"
        },
        "id": "-aOwnh2g2EJc",
        "outputId": "691b4579-db73-4c74-e649-2b4e4928ab3c"
      },
      "execution_count": null,
      "outputs": [
        {
          "output_type": "execute_result",
          "data": {
            "text/plain": [
              "[100, 'berry', 300, 'pineapple', 'orange']"
            ]
          },
          "metadata": {},
          "execution_count": 9
        }
      ]
    },
    {
      "cell_type": "markdown",
      "source": [
        "*Adding elements*"
      ],
      "metadata": {
        "id": "WWNzWrz52z--"
      }
    },
    {
      "cell_type": "code",
      "source": [
        "my_list.append(\"400\")\n",
        "my_list"
      ],
      "metadata": {
        "colab": {
          "base_uri": "https://localhost:8080/"
        },
        "id": "rBTc5xDS22I7",
        "outputId": "93d80e1c-287b-44ef-c2d6-2fd67836a4a4"
      },
      "execution_count": null,
      "outputs": [
        {
          "output_type": "execute_result",
          "data": {
            "text/plain": [
              "[100, 'berry', 300, 'pineapple', 'orange', '400']"
            ]
          },
          "metadata": {},
          "execution_count": 10
        }
      ]
    },
    {
      "cell_type": "code",
      "source": [
        "#to add elements to a specific location(insert)\n",
        "#the number 1 is to show the specific index you want to insert the element to\n",
        "my_list.insert(1, 200)\n",
        "my_list"
      ],
      "metadata": {
        "colab": {
          "base_uri": "https://localhost:8080/"
        },
        "id": "47o48qc_4Xrc",
        "outputId": "386ec82e-d08d-40cc-c5c2-082daaff0260"
      },
      "execution_count": null,
      "outputs": [
        {
          "output_type": "execute_result",
          "data": {
            "text/plain": [
              "[100, 200, 300, 'pineapple', 'orange', '400']"
            ]
          },
          "metadata": {},
          "execution_count": 13
        }
      ]
    },
    {
      "cell_type": "markdown",
      "source": [
        "*Removing elements*"
      ],
      "metadata": {
        "id": "LU_-Yu-m3CeX"
      }
    },
    {
      "cell_type": "code",
      "source": [
        "my_list.remove(\"berry\")\n",
        "my_list"
      ],
      "metadata": {
        "colab": {
          "base_uri": "https://localhost:8080/"
        },
        "id": "TKT7KvfP3MDy",
        "outputId": "9dc2beba-7032-41ed-a561-ccce6092ef26"
      },
      "execution_count": null,
      "outputs": [
        {
          "output_type": "execute_result",
          "data": {
            "text/plain": [
              "[100, 300, 'pineapple', 'orange', '400']"
            ]
          },
          "metadata": {},
          "execution_count": 12
        }
      ]
    },
    {
      "cell_type": "markdown",
      "source": [
        "# 2. Dictionaries"
      ],
      "metadata": {
        "id": "axyvTi7EDiHo"
      }
    },
    {
      "cell_type": "code",
      "source": [
        "#creating a dictionary\n",
        "employee = {\"name\": \"Sera\", \"age\": 24, \"position\": \"Manager\"}\n",
        "print(employee)"
      ],
      "metadata": {
        "colab": {
          "base_uri": "https://localhost:8080/"
        },
        "id": "BfqGtcbiDmzm",
        "outputId": "8de8f6b2-d9ee-4bda-bd7d-591616cbd7e6"
      },
      "execution_count": null,
      "outputs": [
        {
          "output_type": "stream",
          "name": "stdout",
          "text": [
            "{'name': 'Sera', 'age': 24, 'position': 'Manager'}\n"
          ]
        }
      ]
    },
    {
      "cell_type": "markdown",
      "source": [
        "*Accessing*"
      ],
      "metadata": {
        "id": "ISCYw086Engu"
      }
    },
    {
      "cell_type": "code",
      "source": [
        "#accessing an element in a dictionary(indexing)\n",
        "employee_position = employee[\"position\"]\n",
        "employee_position"
      ],
      "metadata": {
        "colab": {
          "base_uri": "https://localhost:8080/",
          "height": 35
        },
        "id": "46nCIiZEEqh2",
        "outputId": "ed548326-5b5e-45ec-d64f-9eff7b6a3154"
      },
      "execution_count": null,
      "outputs": [
        {
          "output_type": "execute_result",
          "data": {
            "text/plain": [
              "'Manager'"
            ],
            "application/vnd.google.colaboratory.intrinsic+json": {
              "type": "string"
            }
          },
          "metadata": {},
          "execution_count": 16
        }
      ]
    },
    {
      "cell_type": "markdown",
      "source": [
        "*Adding/Updating*"
      ],
      "metadata": {
        "id": "_7hlGxitFskH"
      }
    },
    {
      "cell_type": "code",
      "source": [
        "#updating/adding key-value pairs\n",
        "#adding\n",
        "employee[\"salary\"] = 70000\n",
        "print(employee)"
      ],
      "metadata": {
        "colab": {
          "base_uri": "https://localhost:8080/"
        },
        "id": "j056m3QCFwLm",
        "outputId": "4076c3ae-06a2-4e6d-80f9-dea05801d70b"
      },
      "execution_count": null,
      "outputs": [
        {
          "output_type": "stream",
          "name": "stdout",
          "text": [
            "{'name': 'Sera', 'age': 24, 'position': 'Manager', 'salary': 70000}\n"
          ]
        }
      ]
    },
    {
      "cell_type": "code",
      "source": [
        "#updating\n",
        "employee[\"salary\"] = 100000\n",
        "employee"
      ],
      "metadata": {
        "colab": {
          "base_uri": "https://localhost:8080/"
        },
        "id": "Oqe4PznnGdp8",
        "outputId": "43995c76-afba-45f0-fef1-112200e61204"
      },
      "execution_count": null,
      "outputs": [
        {
          "output_type": "execute_result",
          "data": {
            "text/plain": [
              "{'name': 'Sera', 'age': 24, 'position': 'Manager', 'salary': 100000}"
            ]
          },
          "metadata": {},
          "execution_count": 19
        }
      ]
    },
    {
      "cell_type": "markdown",
      "source": [
        "*Removing key-value pairs*"
      ],
      "metadata": {
        "id": "znrvQ0zYHJ-9"
      }
    },
    {
      "cell_type": "code",
      "source": [
        "#to delete a key-pair value use del for delete\n",
        "del employee['age']\n",
        "employee"
      ],
      "metadata": {
        "colab": {
          "base_uri": "https://localhost:8080/"
        },
        "id": "lVijMasuHP0N",
        "outputId": "817b6613-c7a7-44e0-9a5a-2ffd68cf6245"
      },
      "execution_count": null,
      "outputs": [
        {
          "output_type": "execute_result",
          "data": {
            "text/plain": [
              "{'name': 'Sera', 'position': 'Manager', 'salary': 100000}"
            ]
          },
          "metadata": {},
          "execution_count": 20
        }
      ]
    },
    {
      "cell_type": "code",
      "source": [
        "#length (checking the length of a variable)\n",
        "#number of elements\n",
        "num_items = len(employee)\n",
        "print(num_items)"
      ],
      "metadata": {
        "colab": {
          "base_uri": "https://localhost:8080/"
        },
        "id": "SyjyjYbbII8o",
        "outputId": "cc92db10-a7a5-46e7-da9e-fc764ec68f46"
      },
      "execution_count": null,
      "outputs": [
        {
          "output_type": "stream",
          "name": "stdout",
          "text": [
            "3\n"
          ]
        }
      ]
    },
    {
      "cell_type": "markdown",
      "source": [
        "# 3. SETS"
      ],
      "metadata": {
        "id": "to_7UdoMJhZV"
      }
    },
    {
      "cell_type": "code",
      "source": [
        "#CREATING A SET\n",
        "#does not allow duplicates, only stores unique values\n",
        "num_set ={1,3,3,2,4,5}\n",
        "num_set"
      ],
      "metadata": {
        "colab": {
          "base_uri": "https://localhost:8080/"
        },
        "id": "Afht3LOpJktj",
        "outputId": "80d501d0-0554-41b5-8c77-827c10dead70"
      },
      "execution_count": null,
      "outputs": [
        {
          "output_type": "execute_result",
          "data": {
            "text/plain": [
              "{1, 2, 3, 4, 5}"
            ]
          },
          "metadata": {},
          "execution_count": 24
        }
      ]
    },
    {
      "cell_type": "code",
      "source": [
        "#adding elements\n",
        "num_set.add(6)\n",
        "num_set"
      ],
      "metadata": {
        "colab": {
          "base_uri": "https://localhost:8080/"
        },
        "id": "QYoPrHZyKSi2",
        "outputId": "12c2d504-7fd3-465f-a86e-4160d951a95e"
      },
      "execution_count": null,
      "outputs": [
        {
          "output_type": "execute_result",
          "data": {
            "text/plain": [
              "{1, 2, 3, 4, 5, 6}"
            ]
          },
          "metadata": {},
          "execution_count": 25
        }
      ]
    },
    {
      "cell_type": "code",
      "source": [
        "#removing elements\n",
        "num_set.remove(4)\n",
        "num_set"
      ],
      "metadata": {
        "colab": {
          "base_uri": "https://localhost:8080/"
        },
        "id": "-Uhw0WkgKrdR",
        "outputId": "11ad4472-f31c-45cc-dca9-2e9e0076d961"
      },
      "execution_count": null,
      "outputs": [
        {
          "output_type": "execute_result",
          "data": {
            "text/plain": [
              "{1, 2, 3, 5, 6}"
            ]
          },
          "metadata": {},
          "execution_count": 27
        }
      ]
    },
    {
      "cell_type": "code",
      "source": [
        "#set operations\n",
        "num_set2 ={3,6,7,7,8}\n",
        "num_set2\n",
        "\n"
      ],
      "metadata": {
        "colab": {
          "base_uri": "https://localhost:8080/"
        },
        "id": "IvHhSjD1LuGx",
        "outputId": "805c8301-fe36-433b-aa80-7807f8d2777e"
      },
      "execution_count": 35,
      "outputs": [
        {
          "output_type": "execute_result",
          "data": {
            "text/plain": [
              "{3, 6, 7, 8}"
            ]
          },
          "metadata": {},
          "execution_count": 35
        }
      ]
    },
    {
      "cell_type": "code",
      "source": [
        "count = len(num_set2)\n",
        "count"
      ],
      "metadata": {
        "colab": {
          "base_uri": "https://localhost:8080/"
        },
        "id": "r-Y-U4BlMA9_",
        "outputId": "a2eb5022-112f-4ecc-8982-a2f4882a4952"
      },
      "execution_count": 36,
      "outputs": [
        {
          "output_type": "execute_result",
          "data": {
            "text/plain": [
              "4"
            ]
          },
          "metadata": {},
          "execution_count": 36
        }
      ]
    },
    {
      "cell_type": "code",
      "source": [
        "#set operation(union,intersection,difference)\n",
        "# Union of two sets\n",
        "union_set = num_set.union(num_set2)  # Returns {1, 2, 3, 5, 6, 7, 8}\n",
        "# Explanation: union() combines all unique elements from both sets.\n",
        "print(union_set)"
      ],
      "metadata": {
        "colab": {
          "base_uri": "https://localhost:8080/"
        },
        "id": "FI8dnPH1Oq8V",
        "outputId": "c2733e5d-a75f-4f29-8f9c-185edf87c566"
      },
      "execution_count": 37,
      "outputs": [
        {
          "output_type": "stream",
          "name": "stdout",
          "text": [
            "{1, 2, 3, 5, 6, 7, 8}\n"
          ]
        }
      ]
    },
    {
      "cell_type": "code",
      "source": [
        "#intersection-returns elements common to both sets\n",
        "#returns 3 and 6 because it is common n both sets\n",
        "intersection = num_set.intersection(num_set2)\n",
        "print(intersection)"
      ],
      "metadata": {
        "colab": {
          "base_uri": "https://localhost:8080/"
        },
        "id": "WuTGNdEYPP7B",
        "outputId": "bc938790-8575-4b9b-a463-a5a69e3a56e7"
      },
      "execution_count": 38,
      "outputs": [
        {
          "output_type": "stream",
          "name": "stdout",
          "text": [
            "{3, 6}\n"
          ]
        }
      ]
    },
    {
      "cell_type": "code",
      "source": [
        "#difference ()returns elements in the first set but not present in the second set\n",
        "difference = num_set.difference(num_set2)\n",
        "print(difference)"
      ],
      "metadata": {
        "colab": {
          "base_uri": "https://localhost:8080/"
        },
        "id": "YTm2-iClQhb1",
        "outputId": "93385c09-f418-4eb0-a48b-af1a948d6ec7"
      },
      "execution_count": 39,
      "outputs": [
        {
          "output_type": "stream",
          "name": "stdout",
          "text": [
            "{1, 2, 5}\n"
          ]
        }
      ]
    },
    {
      "cell_type": "markdown",
      "source": [
        "# 4. Turples"
      ],
      "metadata": {
        "id": "vaBwF2xeQZzn"
      }
    },
    {
      "cell_type": "code",
      "source": [
        "#creating a turple\n",
        "coordinates = (34.0546, -118.2345)\n",
        "print(coordinates)"
      ],
      "metadata": {
        "colab": {
          "base_uri": "https://localhost:8080/"
        },
        "id": "3yUZRQ-bQkAF",
        "outputId": "b50e1dd7-e623-45dc-f5cc-b62446da3ee1"
      },
      "execution_count": 40,
      "outputs": [
        {
          "output_type": "stream",
          "name": "stdout",
          "text": [
            "(34.0546, -118.2345)\n"
          ]
        }
      ]
    },
    {
      "cell_type": "code",
      "source": [
        "#accessing elements by index (indexing)\n",
        "longitude = coordinates[1]\n",
        "longitude"
      ],
      "metadata": {
        "colab": {
          "base_uri": "https://localhost:8080/"
        },
        "id": "o5ls2TQ3T56r",
        "outputId": "b638609d-6b5e-48fc-ca58-8a9e830eaa81"
      },
      "execution_count": 42,
      "outputs": [
        {
          "output_type": "execute_result",
          "data": {
            "text/plain": [
              "-118.2345"
            ]
          },
          "metadata": {},
          "execution_count": 42
        }
      ]
    },
    {
      "cell_type": "code",
      "source": [
        "#modify - immutability\n",
        "coordinates[0] = 40.123\n",
        "print(coordinates)"
      ],
      "metadata": {
        "colab": {
          "base_uri": "https://localhost:8080/",
          "height": 176
        },
        "id": "PSSf6_wjVRWp",
        "outputId": "a54f9882-fb65-4705-c830-c7323987f0aa"
      },
      "execution_count": 43,
      "outputs": [
        {
          "output_type": "error",
          "ename": "TypeError",
          "evalue": "'tuple' object does not support item assignment",
          "traceback": [
            "\u001b[0;31m---------------------------------------------------------------------------\u001b[0m",
            "\u001b[0;31mTypeError\u001b[0m                                 Traceback (most recent call last)",
            "\u001b[0;32m<ipython-input-43-20d0cd2e5621>\u001b[0m in \u001b[0;36m<cell line: 2>\u001b[0;34m()\u001b[0m\n\u001b[1;32m      1\u001b[0m \u001b[0;31m#modify - immutability\u001b[0m\u001b[0;34m\u001b[0m\u001b[0;34m\u001b[0m\u001b[0m\n\u001b[0;32m----> 2\u001b[0;31m \u001b[0mcoordinates\u001b[0m\u001b[0;34m[\u001b[0m\u001b[0;36m0\u001b[0m\u001b[0;34m]\u001b[0m \u001b[0;34m=\u001b[0m \u001b[0;36m40.123\u001b[0m\u001b[0;34m\u001b[0m\u001b[0;34m\u001b[0m\u001b[0m\n\u001b[0m\u001b[1;32m      3\u001b[0m \u001b[0mprint\u001b[0m\u001b[0;34m(\u001b[0m\u001b[0mcoordinates\u001b[0m\u001b[0;34m)\u001b[0m\u001b[0;34m\u001b[0m\u001b[0;34m\u001b[0m\u001b[0m\n",
            "\u001b[0;31mTypeError\u001b[0m: 'tuple' object does not support item assignment"
          ]
        }
      ]
    },
    {
      "cell_type": "markdown",
      "source": [
        "\n",
        "\n",
        "1.   List item\n",
        "2.   List item\n",
        "\n"
      ],
      "metadata": {
        "id": "BGzo-uV-W1oY"
      }
    },
    {
      "cell_type": "markdown",
      "source": [
        "# BASIC TASK 1\n",
        "\n",
        "---\n",
        "\n"
      ],
      "metadata": {
        "id": "alf6msr5W8xt"
      }
    },
    {
      "cell_type": "code",
      "source": [
        "#STEP 1\n",
        "student_scores = {\"Alice\": 87, \"Harrison\": 67, \"David\": 45,\"Charlse\": 90, \"Mirriam\": 78}\n",
        "#step 2; score.items returns the key value pairs\n",
        "for student, score in student_scores.items():\n",
        "  print(f\"Student: {student}, Score:{score}\")\n",
        "#step3\n",
        "  if score >= 80:\n",
        "    print(\"Result: excelent\")\n",
        "  elif 50 <= score < 80:\n",
        "    print(\"Result: pass\")\n",
        "  else:\n",
        "   print(\"Result: Fail\")\n",
        "\n",
        "   print()"
      ],
      "metadata": {
        "colab": {
          "base_uri": "https://localhost:8080/"
        },
        "id": "N9QXx1SYW_1S",
        "outputId": "da46365f-2769-4df9-e8d7-45ca20a55bb2"
      },
      "execution_count": 44,
      "outputs": [
        {
          "output_type": "stream",
          "name": "stdout",
          "text": [
            "Student: Alice, Score:87\n",
            "Result: excelent\n",
            "Student: Harrison, Score:67\n",
            "Result: pass\n",
            "Student: David, Score:45\n",
            "Result: Fail\n",
            "\n",
            "Student: Charlse, Score:90\n",
            "Result: excelent\n",
            "Student: Mirriam, Score:78\n",
            "Result: pass\n"
          ]
        }
      ]
    },
    {
      "cell_type": "code",
      "source": [
        "items = {\"Apple\",\"Banana\",\"avocado\",\"orange\",\"Grapes\",\"Mango\"}\n",
        "#step2\n",
        "for item in items:\n",
        "  #the for loop will go through each item\n",
        "  #step 3\n",
        "  if item.startswith(\"A\"):\n",
        "    print(f\"{item}: Start with A\")\n",
        "  elif len(item) > 5:\n",
        "     print(f\"{item}: Long Name\")\n",
        "  else:\n",
        "    print(f\"{item}: Regular Name\")"
      ],
      "metadata": {
        "colab": {
          "base_uri": "https://localhost:8080/"
        },
        "id": "F1Jm8MLPbNJG",
        "outputId": "7a2f483e-d328-4bae-8e2b-80fb7d3aa37c"
      },
      "execution_count": 45,
      "outputs": [
        {
          "output_type": "stream",
          "name": "stdout",
          "text": [
            "Apple: Start with A\n",
            "Mango: Regular Name\n",
            "Grapes: Long Name\n",
            "Banana: Long Name\n",
            "avocado: Long Name\n",
            "orange: Long Name\n"
          ]
        }
      ]
    }
  ]
}