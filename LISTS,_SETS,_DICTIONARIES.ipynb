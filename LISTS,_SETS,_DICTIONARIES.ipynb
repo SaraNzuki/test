{
  "nbformat": 4,
  "nbformat_minor": 0,
  "metadata": {
    "colab": {
      "provenance": [],
      "authorship_tag": "ABX9TyMta73FzeF2x3nzMhdn10UD",
      "include_colab_link": true
    },
    "kernelspec": {
      "name": "python3",
      "display_name": "Python 3"
    },
    "language_info": {
      "name": "python"
    }
  },
  "cells": [
    {
      "cell_type": "markdown",
      "metadata": {
        "id": "view-in-github",
        "colab_type": "text"
      },
      "source": [
        "<a href=\"https://colab.research.google.com/github/SaraNzuki/test/blob/main/LISTS%2C_SETS%2C_DICTIONARIES.ipynb\" target=\"_parent\"><img src=\"https://colab.research.google.com/assets/colab-badge.svg\" alt=\"Open In Colab\"/></a>"
      ]
    },
    {
      "cell_type": "markdown",
      "source": [
        "# 1. **Lists**"
      ],
      "metadata": {
        "id": "aFM7wWgxyrdA"
      }
    },
    {
      "cell_type": "code",
      "source": [
        "#creating lists with basic numbers and strings\n",
        "my_list = [100,200,300,\"pineapple\",\"orange\"]\n",
        "print(my_list)"
      ],
      "metadata": {
        "colab": {
          "base_uri": "https://localhost:8080/"
        },
        "id": "oWk4pziWyu_z",
        "outputId": "f61eb6b3-0beb-43bb-fe4a-2d40a5098570"
      },
      "execution_count": 1,
      "outputs": [
        {
          "output_type": "stream",
          "name": "stdout",
          "text": [
            "[100, 200, 300, 'pineapple', 'orange']\n"
          ]
        }
      ]
    },
    {
      "cell_type": "markdown",
      "source": [
        "*Accessing elements*"
      ],
      "metadata": {
        "id": "BwtnpinXC7vh"
      }
    },
    {
      "cell_type": "code",
      "source": [
        "#accessing elements(indexing)\n",
        "#accessing elements is sequaencial and begins from 0, so 100 is 0, 200 is 1 etc\n",
        "first_element = my_list[0]\n",
        "first_element"
      ],
      "metadata": {
        "colab": {
          "base_uri": "https://localhost:8080/"
        },
        "id": "PlxAS-6HzNsb",
        "outputId": "b87a80f3-27f8-42b1-c965-292952e6bc26"
      },
      "execution_count": 3,
      "outputs": [
        {
          "output_type": "execute_result",
          "data": {
            "text/plain": [
              "100"
            ]
          },
          "metadata": {},
          "execution_count": 3
        }
      ]
    },
    {
      "cell_type": "code",
      "source": [
        "#accessing the last element in a list of many items:\n",
        "last_element = my_list[-1]\n",
        "last_element"
      ],
      "metadata": {
        "colab": {
          "base_uri": "https://localhost:8080/",
          "height": 35
        },
        "id": "FdbsSnGuzoWH",
        "outputId": "875d41d4-5bbb-4ca1-d650-40273726427b"
      },
      "execution_count": 5,
      "outputs": [
        {
          "output_type": "execute_result",
          "data": {
            "text/plain": [
              "'orange'"
            ],
            "application/vnd.google.colaboratory.intrinsic+json": {
              "type": "string"
            }
          },
          "metadata": {},
          "execution_count": 5
        }
      ]
    },
    {
      "cell_type": "markdown",
      "source": [
        "*Slicing Lists*"
      ],
      "metadata": {
        "id": "Xj4TPGOFDRO-"
      }
    },
    {
      "cell_type": "code",
      "source": [
        "#accessing a part of the list; i.e. index 1-3 (sub-list),\n",
        "#the last index added is normally excluded\n",
        "#in the code below it will exclude 4 which is orange in the list\n",
        "sub_list = my_list[1:4]\n",
        "sub_list"
      ],
      "metadata": {
        "colab": {
          "base_uri": "https://localhost:8080/"
        },
        "id": "QPKkkA120lac",
        "outputId": "d1283898-7366-466b-ac95-383e0d98ae10"
      },
      "execution_count": 7,
      "outputs": [
        {
          "output_type": "execute_result",
          "data": {
            "text/plain": [
              "[200, 300, 'pineapple']"
            ]
          },
          "metadata": {},
          "execution_count": 7
        }
      ]
    },
    {
      "cell_type": "markdown",
      "source": [
        "*Modifying lists*"
      ],
      "metadata": {
        "id": "6GQcyKJc2CBb"
      }
    },
    {
      "cell_type": "code",
      "source": [
        "#changing an element to something else eg: changing element  in index 1; 200 to berry\n",
        "my_list[1] = \"berry\"\n",
        "my_list"
      ],
      "metadata": {
        "colab": {
          "base_uri": "https://localhost:8080/"
        },
        "id": "-aOwnh2g2EJc",
        "outputId": "691b4579-db73-4c74-e649-2b4e4928ab3c"
      },
      "execution_count": 9,
      "outputs": [
        {
          "output_type": "execute_result",
          "data": {
            "text/plain": [
              "[100, 'berry', 300, 'pineapple', 'orange']"
            ]
          },
          "metadata": {},
          "execution_count": 9
        }
      ]
    },
    {
      "cell_type": "markdown",
      "source": [
        "*Adding elements*"
      ],
      "metadata": {
        "id": "WWNzWrz52z--"
      }
    },
    {
      "cell_type": "code",
      "source": [
        "my_list.append(\"400\")\n",
        "my_list"
      ],
      "metadata": {
        "colab": {
          "base_uri": "https://localhost:8080/"
        },
        "id": "rBTc5xDS22I7",
        "outputId": "93d80e1c-287b-44ef-c2d6-2fd67836a4a4"
      },
      "execution_count": 10,
      "outputs": [
        {
          "output_type": "execute_result",
          "data": {
            "text/plain": [
              "[100, 'berry', 300, 'pineapple', 'orange', '400']"
            ]
          },
          "metadata": {},
          "execution_count": 10
        }
      ]
    },
    {
      "cell_type": "code",
      "source": [
        "#to add elements to a specific location(insert)\n",
        "#the number 1 is to show the specific index you want to insert the element to\n",
        "my_list.insert(1, 200)\n",
        "my_list"
      ],
      "metadata": {
        "colab": {
          "base_uri": "https://localhost:8080/"
        },
        "id": "47o48qc_4Xrc",
        "outputId": "386ec82e-d08d-40cc-c5c2-082daaff0260"
      },
      "execution_count": 13,
      "outputs": [
        {
          "output_type": "execute_result",
          "data": {
            "text/plain": [
              "[100, 200, 300, 'pineapple', 'orange', '400']"
            ]
          },
          "metadata": {},
          "execution_count": 13
        }
      ]
    },
    {
      "cell_type": "markdown",
      "source": [
        "*Removing elements*"
      ],
      "metadata": {
        "id": "LU_-Yu-m3CeX"
      }
    },
    {
      "cell_type": "code",
      "source": [
        "my_list.remove(\"berry\")\n",
        "my_list"
      ],
      "metadata": {
        "colab": {
          "base_uri": "https://localhost:8080/"
        },
        "id": "TKT7KvfP3MDy",
        "outputId": "9dc2beba-7032-41ed-a561-ccce6092ef26"
      },
      "execution_count": 12,
      "outputs": [
        {
          "output_type": "execute_result",
          "data": {
            "text/plain": [
              "[100, 300, 'pineapple', 'orange', '400']"
            ]
          },
          "metadata": {},
          "execution_count": 12
        }
      ]
    },
    {
      "cell_type": "markdown",
      "source": [
        "# 2. Dictionaries"
      ],
      "metadata": {
        "id": "axyvTi7EDiHo"
      }
    },
    {
      "cell_type": "code",
      "source": [
        "#creating a dictionary\n",
        "employee = {\"name\": \"Sera\", \"age\": 24, \"position\": \"Manager\"}\n",
        "print(employee)"
      ],
      "metadata": {
        "colab": {
          "base_uri": "https://localhost:8080/"
        },
        "id": "BfqGtcbiDmzm",
        "outputId": "8de8f6b2-d9ee-4bda-bd7d-591616cbd7e6"
      },
      "execution_count": 14,
      "outputs": [
        {
          "output_type": "stream",
          "name": "stdout",
          "text": [
            "{'name': 'Sera', 'age': 24, 'position': 'Manager'}\n"
          ]
        }
      ]
    },
    {
      "cell_type": "markdown",
      "source": [
        "*Accessing*"
      ],
      "metadata": {
        "id": "ISCYw086Engu"
      }
    },
    {
      "cell_type": "code",
      "source": [
        "#accessing an element in a dictionary(indexing)\n",
        "employee_position = employee[\"position\"]\n",
        "employee_position"
      ],
      "metadata": {
        "colab": {
          "base_uri": "https://localhost:8080/",
          "height": 35
        },
        "id": "46nCIiZEEqh2",
        "outputId": "ed548326-5b5e-45ec-d64f-9eff7b6a3154"
      },
      "execution_count": 16,
      "outputs": [
        {
          "output_type": "execute_result",
          "data": {
            "text/plain": [
              "'Manager'"
            ],
            "application/vnd.google.colaboratory.intrinsic+json": {
              "type": "string"
            }
          },
          "metadata": {},
          "execution_count": 16
        }
      ]
    },
    {
      "cell_type": "markdown",
      "source": [
        "*Adding/Updating*"
      ],
      "metadata": {
        "id": "_7hlGxitFskH"
      }
    },
    {
      "cell_type": "code",
      "source": [
        "#updating/adding key-value pairs\n",
        "#adding\n",
        "employee[\"salary\"] = 70000\n",
        "print(employee)"
      ],
      "metadata": {
        "colab": {
          "base_uri": "https://localhost:8080/"
        },
        "id": "j056m3QCFwLm",
        "outputId": "4076c3ae-06a2-4e6d-80f9-dea05801d70b"
      },
      "execution_count": 18,
      "outputs": [
        {
          "output_type": "stream",
          "name": "stdout",
          "text": [
            "{'name': 'Sera', 'age': 24, 'position': 'Manager', 'salary': 70000}\n"
          ]
        }
      ]
    },
    {
      "cell_type": "code",
      "source": [
        "#updating\n",
        "employee[\"salary\"] = 100000\n",
        "employee"
      ],
      "metadata": {
        "colab": {
          "base_uri": "https://localhost:8080/"
        },
        "id": "Oqe4PznnGdp8",
        "outputId": "43995c76-afba-45f0-fef1-112200e61204"
      },
      "execution_count": 19,
      "outputs": [
        {
          "output_type": "execute_result",
          "data": {
            "text/plain": [
              "{'name': 'Sera', 'age': 24, 'position': 'Manager', 'salary': 100000}"
            ]
          },
          "metadata": {},
          "execution_count": 19
        }
      ]
    },
    {
      "cell_type": "markdown",
      "source": [
        "*Removing key-value pairs*"
      ],
      "metadata": {
        "id": "znrvQ0zYHJ-9"
      }
    },
    {
      "cell_type": "code",
      "source": [
        "#to delete a key-pair value use del for delete\n",
        "del employee['age']\n",
        "employee"
      ],
      "metadata": {
        "colab": {
          "base_uri": "https://localhost:8080/"
        },
        "id": "lVijMasuHP0N",
        "outputId": "817b6613-c7a7-44e0-9a5a-2ffd68cf6245"
      },
      "execution_count": 20,
      "outputs": [
        {
          "output_type": "execute_result",
          "data": {
            "text/plain": [
              "{'name': 'Sera', 'position': 'Manager', 'salary': 100000}"
            ]
          },
          "metadata": {},
          "execution_count": 20
        }
      ]
    },
    {
      "cell_type": "code",
      "source": [
        "#length (checking the length of a variable)\n",
        "#number of elements\n",
        "num_items = len(employee)\n",
        "print(num_items)"
      ],
      "metadata": {
        "colab": {
          "base_uri": "https://localhost:8080/"
        },
        "id": "SyjyjYbbII8o",
        "outputId": "cc92db10-a7a5-46e7-da9e-fc764ec68f46"
      },
      "execution_count": 23,
      "outputs": [
        {
          "output_type": "stream",
          "name": "stdout",
          "text": [
            "3\n"
          ]
        }
      ]
    },
    {
      "cell_type": "markdown",
      "source": [
        "# 3. SETS"
      ],
      "metadata": {
        "id": "to_7UdoMJhZV"
      }
    },
    {
      "cell_type": "code",
      "source": [
        "#CREATING A SET\n",
        "#does not allow duplicates, only stores unique values\n",
        "num_set ={1,3,3,2,4,5}\n",
        "num_set"
      ],
      "metadata": {
        "colab": {
          "base_uri": "https://localhost:8080/"
        },
        "id": "Afht3LOpJktj",
        "outputId": "80d501d0-0554-41b5-8c77-827c10dead70"
      },
      "execution_count": 24,
      "outputs": [
        {
          "output_type": "execute_result",
          "data": {
            "text/plain": [
              "{1, 2, 3, 4, 5}"
            ]
          },
          "metadata": {},
          "execution_count": 24
        }
      ]
    },
    {
      "cell_type": "code",
      "source": [
        "#adding elements\n",
        "num_set.add(6)\n",
        "num_set"
      ],
      "metadata": {
        "colab": {
          "base_uri": "https://localhost:8080/"
        },
        "id": "QYoPrHZyKSi2",
        "outputId": "12c2d504-7fd3-465f-a86e-4160d951a95e"
      },
      "execution_count": 25,
      "outputs": [
        {
          "output_type": "execute_result",
          "data": {
            "text/plain": [
              "{1, 2, 3, 4, 5, 6}"
            ]
          },
          "metadata": {},
          "execution_count": 25
        }
      ]
    },
    {
      "cell_type": "code",
      "source": [
        "#removing elements\n",
        "num_set.remove(4)\n",
        "num_set"
      ],
      "metadata": {
        "colab": {
          "base_uri": "https://localhost:8080/"
        },
        "id": "-Uhw0WkgKrdR",
        "outputId": "11ad4472-f31c-45cc-dca9-2e9e0076d961"
      },
      "execution_count": 27,
      "outputs": [
        {
          "output_type": "execute_result",
          "data": {
            "text/plain": [
              "{1, 2, 3, 5, 6}"
            ]
          },
          "metadata": {},
          "execution_count": 27
        }
      ]
    },
    {
      "cell_type": "code",
      "source": [
        "#set operations\n",
        "num_set2 ={6,7,7,8}\n",
        "num_set2\n",
        "\n"
      ],
      "metadata": {
        "colab": {
          "base_uri": "https://localhost:8080/"
        },
        "id": "IvHhSjD1LuGx",
        "outputId": "d83b0c33-15a8-475c-f034-d29fe6019b17"
      },
      "execution_count": 30,
      "outputs": [
        {
          "output_type": "execute_result",
          "data": {
            "text/plain": [
              "{6, 7, 8}"
            ]
          },
          "metadata": {},
          "execution_count": 30
        }
      ]
    },
    {
      "cell_type": "code",
      "source": [
        "count = len(num_set2)\n",
        "count"
      ],
      "metadata": {
        "colab": {
          "base_uri": "https://localhost:8080/"
        },
        "id": "r-Y-U4BlMA9_",
        "outputId": "15211b41-f23e-407d-cdf2-1deafe4a082e"
      },
      "execution_count": 31,
      "outputs": [
        {
          "output_type": "execute_result",
          "data": {
            "text/plain": [
              "3"
            ]
          },
          "metadata": {},
          "execution_count": 31
        }
      ]
    }
  ]
}