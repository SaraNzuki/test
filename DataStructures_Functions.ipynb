{
  "nbformat": 4,
  "nbformat_minor": 0,
  "metadata": {
    "colab": {
      "provenance": [],
      "include_colab_link": true
    },
    "kernelspec": {
      "name": "python3",
      "display_name": "Python 3"
    },
    "language_info": {
      "name": "python"
    }
  },
  "cells": [
    {
      "cell_type": "markdown",
      "metadata": {
        "id": "view-in-github",
        "colab_type": "text"
      },
      "source": [
        "<a href=\"https://colab.research.google.com/github/SaraNzuki/test/blob/main/DataStructures_Functions.ipynb\" target=\"_parent\"><img src=\"https://colab.research.google.com/assets/colab-badge.svg\" alt=\"Open In Colab\"/></a>"
      ]
    },
    {
      "cell_type": "markdown",
      "source": [
        "[ Introduction to Python Data Structures](**https://**)\n",
        "\n",
        "Definition: Data structures are specialized formats for organizing, processing, retrieving, and storing data efficiently. By selecting the right data structure, we can optimize the performance of a program.\n",
        "\n",
        "**[Why Data Structures are Important:](https://)**\n",
        "\n",
        "* Efficiency: Data structures make it easy to manage large amounts of data in an organized manner, improving the efficiency of data access, modification, and retrieval.\n",
        "* Optimized Operations: Data structures are crucial for optimizing computational tasks such as searching, sorting, or updating data, providing the foundation for more complex algorithms.\n",
        "* Problem Solving: Correct use of data structures is key in solving a wide range of computational problems, from simple tasks like sorting and searching to complex problems like pathfinding, machine learning, and more.\n",
        "\n",
        "***Python’s Built-in Data Structures***: Python comes with several built-in data structures that are used frequently in data analysis and general programming:\n",
        "\n",
        "* Lists: Ordered, mutable collections of items.\n",
        "* Tuples: Ordered, immutable collections of items.\n",
        "* Dictionaries: Key-value pairs for fast lookups.\n",
        "* Sets: Unordered collections of unique elements.\n",
        "\n",
        "[Mutable vs Immutable:](https://)\n",
        "\n",
        "* Mutable: These data structures can be altered after their creation, meaning you can add, remove, or modify elements. Examples: Lists, Dictionaries, Sets.\n",
        "\n",
        "* Immutable: These data structures cannot be changed after their creation, making them useful when you need to ensure data remains constant. Examples: Tuples, Strings.\n"
      ],
      "metadata": {
        "id": "Q-zBOMBn8aHE"
      }
    },
    {
      "cell_type": "markdown",
      "source": [
        "**[1. list](https://)**"
      ],
      "metadata": {
        "id": "PKJ2BOmQ-UTW"
      }
    },
    {
      "cell_type": "code",
      "execution_count": null,
      "metadata": {
        "colab": {
          "base_uri": "https://localhost:8080/"
        },
        "id": "a0LS_z_28JCO",
        "outputId": "73f29ae2-0c17-4adf-f46f-0b21fd43cbb3"
      },
      "outputs": [
        {
          "output_type": "stream",
          "name": "stdout",
          "text": [
            "[10, 20, 30, 'apple', 'banana']\n"
          ]
        }
      ],
      "source": [
        "#creating a list with basic of numbers and strings\n",
        "my_list = [10,20,30,\"apple\",\"banana\"]\n",
        "print(my_list)"
      ]
    },
    {
      "cell_type": "code",
      "source": [
        "#accessing elements(indexing)\n",
        "first_element = my_list[0]\n",
        "first_element"
      ],
      "metadata": {
        "colab": {
          "base_uri": "https://localhost:8080/"
        },
        "id": "WBi-arD5_EX0",
        "outputId": "c448afa0-e8b2-44b1-8e20-810d851a2778"
      },
      "execution_count": null,
      "outputs": [
        {
          "output_type": "execute_result",
          "data": {
            "text/plain": [
              "10"
            ]
          },
          "metadata": {},
          "execution_count": 5
        }
      ]
    },
    {
      "cell_type": "code",
      "source": [
        "#slicing a list\n",
        "#geting a sublist from index 1 to 3\n",
        "sub_list = my_list[0:3]\n",
        "print(sub_list)"
      ],
      "metadata": {
        "colab": {
          "base_uri": "https://localhost:8080/"
        },
        "id": "NjIfEqtC_E4k",
        "outputId": "8a3f3971-4dba-4d88-899b-d7d5fbc403e8"
      },
      "execution_count": null,
      "outputs": [
        {
          "output_type": "stream",
          "name": "stdout",
          "text": [
            "[10, 20, 30]\n"
          ]
        }
      ]
    },
    {
      "cell_type": "code",
      "source": [
        "#modifying elements\n",
        "my_list[2] = 77\n",
        "my_list"
      ],
      "metadata": {
        "colab": {
          "base_uri": "https://localhost:8080/"
        },
        "id": "YOLXFfqH_FQ8",
        "outputId": "214cdef1-2ec2-4bb2-9466-c7c75810125c"
      },
      "execution_count": null,
      "outputs": [
        {
          "output_type": "execute_result",
          "data": {
            "text/plain": [
              "[10, 20, 77, 'apple', 'banana']"
            ]
          },
          "metadata": {},
          "execution_count": 12
        }
      ]
    },
    {
      "cell_type": "code",
      "source": [
        "#adding elements\n",
        "my_list.append(\"Tonny\")\n",
        "my_list"
      ],
      "metadata": {
        "colab": {
          "base_uri": "https://localhost:8080/"
        },
        "id": "tlqV5kjsCk6-",
        "outputId": "4982e166-7f58-455f-8afb-01e602767341"
      },
      "execution_count": null,
      "outputs": [
        {
          "output_type": "execute_result",
          "data": {
            "text/plain": [
              "[10, 20, 77, 'apple', 'banana', 'Tonny']"
            ]
          },
          "metadata": {},
          "execution_count": 13
        }
      ]
    },
    {
      "cell_type": "code",
      "source": [
        "#remove elements\n",
        "my_list.remove(\"Tonny\")\n",
        "my_list"
      ],
      "metadata": {
        "colab": {
          "base_uri": "https://localhost:8080/"
        },
        "id": "MkqRqyRQC4mk",
        "outputId": "6d68e154-cb2b-4f9f-cb98-e90378e258db"
      },
      "execution_count": null,
      "outputs": [
        {
          "output_type": "execute_result",
          "data": {
            "text/plain": [
              "[10, 20, 77, 'apple', 'banana']"
            ]
          },
          "metadata": {},
          "execution_count": 14
        }
      ]
    },
    {
      "cell_type": "code",
      "source": [
        "#insert elements\n",
        "my_list.insert(2, \"jane\")\n",
        "my_list"
      ],
      "metadata": {
        "colab": {
          "base_uri": "https://localhost:8080/"
        },
        "id": "tLOG5xYDDUyw",
        "outputId": "4b40136d-5a52-4a7e-c731-4991c45b7117"
      },
      "execution_count": null,
      "outputs": [
        {
          "output_type": "execute_result",
          "data": {
            "text/plain": [
              "[10, 20, 'jane', 77, 'apple', 'banana']"
            ]
          },
          "metadata": {},
          "execution_count": 15
        }
      ]
    },
    {
      "cell_type": "markdown",
      "source": [
        "[**2.DICTIONARIES**](https://)"
      ],
      "metadata": {
        "id": "uBAz6UvoETs1"
      }
    },
    {
      "cell_type": "code",
      "source": [
        "#CREATING A DICTIONARY\n",
        "employee = {\"name\": \"john\", \"age\": 45, \"position\": \"DataSpecialist\"}\n",
        "print(employee)"
      ],
      "metadata": {
        "colab": {
          "base_uri": "https://localhost:8080/"
        },
        "id": "l33pN1joER8a",
        "outputId": "11abdbf4-d33a-47a8-a90d-bda5a2ab18c3"
      },
      "execution_count": null,
      "outputs": [
        {
          "output_type": "stream",
          "name": "stdout",
          "text": [
            "{'name': 'john', 'age': 45, 'position': 'DataSpecialist'}\n"
          ]
        }
      ]
    },
    {
      "cell_type": "code",
      "source": [
        "#accessing(indexing)\n",
        "employee_age = employee[\"age\"]\n",
        "employee_age"
      ],
      "metadata": {
        "colab": {
          "base_uri": "https://localhost:8080/"
        },
        "id": "_XLSY_fTESLl",
        "outputId": "e9851af7-fdf4-457a-ea19-7ccb8303ea58"
      },
      "execution_count": null,
      "outputs": [
        {
          "output_type": "execute_result",
          "data": {
            "text/plain": [
              "45"
            ]
          },
          "metadata": {},
          "execution_count": 32
        }
      ]
    },
    {
      "cell_type": "code",
      "source": [
        "#adding key-value pairs\n",
        "employee[\"Salary\"] = 70000\n",
        "employee"
      ],
      "metadata": {
        "colab": {
          "base_uri": "https://localhost:8080/"
        },
        "id": "IyBE2yQdESPM",
        "outputId": "f7bb6036-3fb2-48c4-e113-8ade5eb2832f"
      },
      "execution_count": null,
      "outputs": [
        {
          "output_type": "execute_result",
          "data": {
            "text/plain": [
              "{'name': 'john', 'age': 45, 'position': 'DataSpecialist', 'Salary': 70000}"
            ]
          },
          "metadata": {},
          "execution_count": 22
        }
      ]
    },
    {
      "cell_type": "code",
      "source": [
        "#update key-pair values\n",
        "employee[\"name\"] = \"Alex\"\n",
        "print(employee)"
      ],
      "metadata": {
        "colab": {
          "base_uri": "https://localhost:8080/"
        },
        "id": "DznmMKvQESan",
        "outputId": "ae9bdab9-6cc8-494c-9f67-f6d4f75aff5e"
      },
      "execution_count": null,
      "outputs": [
        {
          "output_type": "stream",
          "name": "stdout",
          "text": [
            "{'name': 'Alex', 'age': 45, 'position': 'DataSpecialist', 'Salary': 70000}\n"
          ]
        }
      ]
    },
    {
      "cell_type": "code",
      "source": [
        "#removing\n",
        "del employee[\"Salary\"]"
      ],
      "metadata": {
        "colab": {
          "base_uri": "https://localhost:8080/",
          "height": 164
        },
        "id": "AMKhFu2EESiU",
        "outputId": "6746425c-6e7e-4db3-c98f-1311602e1292"
      },
      "execution_count": null,
      "outputs": [
        {
          "output_type": "error",
          "ename": "KeyError",
          "evalue": "'Salary'",
          "traceback": [
            "\u001b[0;31m---------------------------------------------------------------------------\u001b[0m",
            "\u001b[0;31mKeyError\u001b[0m                                  Traceback (most recent call last)",
            "\u001b[0;32m<ipython-input-31-311a2385193e>\u001b[0m in \u001b[0;36m<cell line: 2>\u001b[0;34m()\u001b[0m\n\u001b[1;32m      1\u001b[0m \u001b[0;31m#removing\u001b[0m\u001b[0;34m\u001b[0m\u001b[0;34m\u001b[0m\u001b[0m\n\u001b[0;32m----> 2\u001b[0;31m \u001b[0;32mdel\u001b[0m \u001b[0memployee\u001b[0m\u001b[0;34m[\u001b[0m\u001b[0;34m\"Salary\"\u001b[0m\u001b[0;34m]\u001b[0m\u001b[0;34m\u001b[0m\u001b[0;34m\u001b[0m\u001b[0m\n\u001b[0m",
            "\u001b[0;31mKeyError\u001b[0m: 'Salary'"
          ]
        }
      ]
    },
    {
      "cell_type": "code",
      "source": [
        "#length\n",
        "num_items = len(employee)\n",
        "print(num_items)"
      ],
      "metadata": {
        "colab": {
          "base_uri": "https://localhost:8080/"
        },
        "id": "glCVP0M_ESm5",
        "outputId": "cec6a275-6a1a-4a93-e0dd-86725814144c"
      },
      "execution_count": null,
      "outputs": [
        {
          "output_type": "stream",
          "name": "stdout",
          "text": [
            "3\n"
          ]
        }
      ]
    },
    {
      "cell_type": "markdown",
      "source": [
        "**[3. SETS](https://)**"
      ],
      "metadata": {
        "id": "g4BsVv5VLbuF"
      }
    },
    {
      "cell_type": "code",
      "source": [
        "#creating a set\n",
        "num_set = {1,2,2,4,5,5}\n",
        "num_set"
      ],
      "metadata": {
        "colab": {
          "base_uri": "https://localhost:8080/"
        },
        "id": "CM7ic9WHLaSN",
        "outputId": "2f89afa0-ca96-4a15-d90a-dc7cc3c091ac"
      },
      "execution_count": null,
      "outputs": [
        {
          "output_type": "execute_result",
          "data": {
            "text/plain": [
              "{1, 2, 4, 5}"
            ]
          },
          "metadata": {},
          "execution_count": 2
        }
      ]
    },
    {
      "cell_type": "code",
      "source": [
        "#adding elements\n",
        "num_set.add(10)\n",
        "print(num_set)"
      ],
      "metadata": {
        "colab": {
          "base_uri": "https://localhost:8080/"
        },
        "id": "b9uJG_9WLaeR",
        "outputId": "e4cb7880-bca7-4f97-c6c5-86db050a6b62"
      },
      "execution_count": null,
      "outputs": [
        {
          "output_type": "stream",
          "name": "stdout",
          "text": [
            "{1, 2, 4, 5, 10}\n"
          ]
        }
      ]
    },
    {
      "cell_type": "code",
      "source": [
        "#removing elements #discard() #pop()\n",
        "num_set.remove(10)\n",
        "print(num_set)"
      ],
      "metadata": {
        "colab": {
          "base_uri": "https://localhost:8080/"
        },
        "id": "1S_ZKySuLaiG",
        "outputId": "3c8ad5fd-8ec4-4b18-c9be-beb4175a3020"
      },
      "execution_count": null,
      "outputs": [
        {
          "output_type": "stream",
          "name": "stdout",
          "text": [
            "{1, 2, 4, 5}\n"
          ]
        }
      ]
    },
    {
      "cell_type": "code",
      "source": [
        "#set operation(union,intersection,difference)\n",
        "# Create another set\n",
        "another_set = {4, 5, 6, 7, 8}\n",
        "\n",
        "# Union of two sets\n",
        "union_set = num_set.union(another_set)  # Returns {1, 2, 4, 5, 6, 7, 8}\n",
        "# Explanation: union() combines all unique elements from both sets.\n",
        "print(union_set)"
      ],
      "metadata": {
        "colab": {
          "base_uri": "https://localhost:8080/"
        },
        "id": "31uP2sWvOup_",
        "outputId": "65c5347e-8997-4f30-ec2b-2c38776109c2"
      },
      "execution_count": null,
      "outputs": [
        {
          "output_type": "stream",
          "name": "stdout",
          "text": [
            "{1, 2, 4, 5, 6, 7, 8}\n"
          ]
        }
      ]
    },
    {
      "cell_type": "code",
      "source": [
        "#intersection\n",
        "intersection = num_set.intersection(another_set)\n",
        "print(intersection)"
      ],
      "metadata": {
        "colab": {
          "base_uri": "https://localhost:8080/"
        },
        "id": "tUod2DcOQdg_",
        "outputId": "513114d7-890f-4208-e2ab-c35960337d58"
      },
      "execution_count": null,
      "outputs": [
        {
          "output_type": "stream",
          "name": "stdout",
          "text": [
            "{4, 5}\n"
          ]
        }
      ]
    },
    {
      "cell_type": "code",
      "source": [
        "#difference\n",
        "difference = num_set.difference(another_set)\n",
        "print(difference)"
      ],
      "metadata": {
        "colab": {
          "base_uri": "https://localhost:8080/"
        },
        "id": "a-c6NquPRR7C",
        "outputId": "ee46cf46-38a5-4bbf-ea60-99fc0045887d"
      },
      "execution_count": null,
      "outputs": [
        {
          "output_type": "stream",
          "name": "stdout",
          "text": [
            "{1, 2}\n"
          ]
        }
      ]
    },
    {
      "cell_type": "code",
      "source": [
        "count = len(num_set)\n",
        "print(count)"
      ],
      "metadata": {
        "colab": {
          "base_uri": "https://localhost:8080/"
        },
        "id": "UI54kG_SPbll",
        "outputId": "f7d61b75-83d6-4689-809e-13a8d7d05610"
      },
      "execution_count": null,
      "outputs": [
        {
          "output_type": "stream",
          "name": "stdout",
          "text": [
            "4\n"
          ]
        }
      ]
    },
    {
      "cell_type": "markdown",
      "source": [
        "**4. TURPLES**"
      ],
      "metadata": {
        "id": "p8PkEmIBSCBU"
      }
    },
    {
      "cell_type": "code",
      "source": [
        "#creating a turple\n",
        "coordinates = (34.0546, -118.2345)\n",
        "print(coordinates)"
      ],
      "metadata": {
        "colab": {
          "base_uri": "https://localhost:8080/"
        },
        "id": "ks7J7-I8SBGL",
        "outputId": "c4c4333b-c40c-4aba-f379-c6a4f4028452"
      },
      "execution_count": null,
      "outputs": [
        {
          "output_type": "stream",
          "name": "stdout",
          "text": [
            "(34.0546, -118.2345)\n"
          ]
        }
      ]
    },
    {
      "cell_type": "code",
      "source": [
        "#accessing(indexing)\n",
        "#access elements by index\n",
        "latitude = coordinates[0]\n",
        "print(latitude)\n"
      ],
      "metadata": {
        "colab": {
          "base_uri": "https://localhost:8080/"
        },
        "id": "qWax5rQhWP18",
        "outputId": "14e53ccb-655f-4fa5-984e-e609dfa86450"
      },
      "execution_count": null,
      "outputs": [
        {
          "output_type": "stream",
          "name": "stdout",
          "text": [
            "34.0546\n"
          ]
        }
      ]
    },
    {
      "cell_type": "code",
      "source": [
        "#modify - immutability\n",
        "coordinates[0] = 40.123\n",
        "print(coordinates)"
      ],
      "metadata": {
        "colab": {
          "base_uri": "https://localhost:8080/",
          "height": 182
        },
        "id": "d78PeUtQXBQL",
        "outputId": "5bc281e7-faa4-458c-c48b-c804ddaffa01"
      },
      "execution_count": null,
      "outputs": [
        {
          "output_type": "error",
          "ename": "TypeError",
          "evalue": "'tuple' object does not support item assignment",
          "traceback": [
            "\u001b[0;31m---------------------------------------------------------------------------\u001b[0m",
            "\u001b[0;31mTypeError\u001b[0m                                 Traceback (most recent call last)",
            "\u001b[0;32m<ipython-input-12-20d0cd2e5621>\u001b[0m in \u001b[0;36m<cell line: 2>\u001b[0;34m()\u001b[0m\n\u001b[1;32m      1\u001b[0m \u001b[0;31m#modify - immutability\u001b[0m\u001b[0;34m\u001b[0m\u001b[0;34m\u001b[0m\u001b[0m\n\u001b[0;32m----> 2\u001b[0;31m \u001b[0mcoordinates\u001b[0m\u001b[0;34m[\u001b[0m\u001b[0;36m0\u001b[0m\u001b[0;34m]\u001b[0m \u001b[0;34m=\u001b[0m \u001b[0;36m40.123\u001b[0m\u001b[0;34m\u001b[0m\u001b[0;34m\u001b[0m\u001b[0m\n\u001b[0m\u001b[1;32m      3\u001b[0m \u001b[0mprint\u001b[0m\u001b[0;34m(\u001b[0m\u001b[0mcoordinates\u001b[0m\u001b[0;34m)\u001b[0m\u001b[0;34m\u001b[0m\u001b[0;34m\u001b[0m\u001b[0m\n",
            "\u001b[0;31mTypeError\u001b[0m: 'tuple' object does not support item assignment"
          ]
        }
      ]
    },
    {
      "cell_type": "markdown",
      "source": [
        "BASIC TASK 1"
      ],
      "metadata": {
        "id": "JjSvFJu2aCDV"
      }
    },
    {
      "cell_type": "code",
      "source": [
        "#STEP 1\n",
        "student_scores = {\"Alice\": 87, \"Harrison\": 67, \"David\": 45,\"Charlse\": 90, \"Mirriam\": 78}\n",
        "#step 2\n",
        "for student, score in student_scores.items():\n",
        "  print(f\"Student: {student}, Score:{score}\")\n",
        "#step3\n",
        "  if score >= 80:\n",
        "    print(\"Result: excelent\")\n",
        "  elif 50 <= score < 80:\n",
        "    print(\"Result: pass\")\n",
        "  else:\n",
        "   print(\"Result: Fail\")\n",
        "\n",
        "   print()\n"
      ],
      "metadata": {
        "colab": {
          "base_uri": "https://localhost:8080/"
        },
        "id": "bAKlIJZCYlX4",
        "outputId": "c23c9997-8447-4fd5-c01c-89265c437535"
      },
      "execution_count": null,
      "outputs": [
        {
          "output_type": "stream",
          "name": "stdout",
          "text": [
            "Student: Alice, Score:87\n",
            "Result: excelent\n",
            "Student: Harrison, Score:67\n",
            "Result: pass\n",
            "Student: David, Score:45\n",
            "Result: Fail\n",
            "\n",
            "Student: Charlse, Score:90\n",
            "Result: excelent\n",
            "Student: Mirriam, Score:78\n",
            "Result: pass\n"
          ]
        }
      ]
    },
    {
      "cell_type": "markdown",
      "source": [
        "Basic 2 TASK"
      ],
      "metadata": {
        "id": "apFrVKeUeC7R"
      }
    },
    {
      "cell_type": "code",
      "source": [
        "items = {\"Apple\",\"Banana\",\"avocado\",\"orange\",\"Grapes\",\"Mango\"}\n",
        "#step2\n",
        "for item in items:\n",
        "  #the for loop will go through each item\n",
        "  #step 3\n",
        "  if item.startswith(\"A\"):\n",
        "    print(f\"{item}: Start with A\")\n",
        "  elif len(item) > 5:\n",
        "     print(f\"{item}: Long Name\")\n",
        "  else:\n",
        "    print(f\"{item}: Regular Name\")"
      ],
      "metadata": {
        "colab": {
          "base_uri": "https://localhost:8080/"
        },
        "id": "BQyDHoH-eBPo",
        "outputId": "3238c65f-e71f-494b-8f63-21fadab14142"
      },
      "execution_count": null,
      "outputs": [
        {
          "output_type": "stream",
          "name": "stdout",
          "text": [
            "Grapes: Long Name\n",
            "Mango: Regular Name\n",
            "Banana: Long Name\n",
            "orange: Long Name\n",
            "avocado: Long Name\n",
            "Apple: Start with A\n"
          ]
        }
      ]
    },
    {
      "cell_type": "code",
      "source": [],
      "metadata": {
        "id": "FxZP4F_VgRO9"
      },
      "execution_count": null,
      "outputs": []
    },
    {
      "cell_type": "markdown",
      "source": [
        "**[PYTHON FUNCTION](https://)**\n",
        "\n",
        "BLOCK OF REUSABLE CODES THAT PERFORM A SPECIFIC TASKS\n",
        "![pydefine.png](data:image/png;base64,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)"
      ],
      "metadata": {
        "id": "q_1nCjJrgTLG"
      }
    },
    {
      "cell_type": "code",
      "source": [
        "#TONNY\n",
        "def print_tonny():\n",
        " print(\"tonny\")\n",
        "\n",
        " #calling function\n",
        "print_tonny()\n",
        "print_tonny()\n",
        "print_tonny()\n",
        "print_tonny()"
      ],
      "metadata": {
        "colab": {
          "base_uri": "https://localhost:8080/"
        },
        "id": "7OAjjcGigRnK",
        "outputId": "ee5a228c-b9ad-4a0c-b0d2-2d31742d54d0"
      },
      "execution_count": null,
      "outputs": [
        {
          "output_type": "stream",
          "name": "stdout",
          "text": [
            "tonny\n",
            "tonny\n",
            "tonny\n",
            "tonny\n"
          ]
        }
      ]
    },
    {
      "cell_type": "code",
      "source": [
        "#creating a function\n",
        "def greet():\n",
        "    # def is the keyword to define a function\n",
        "    # 'greet' is the function name, representing what the function does\n",
        "    print(\"Hello, welcome to Python!\")\n",
        "    # The print() function outputs a message to the console\n",
        "\n",
        "# Function call\n",
        "greet()\n",
        "# This calls the function, executing the code inside it\n",
        "# Output: Hello, welcome to Python!\n"
      ],
      "metadata": {
        "colab": {
          "base_uri": "https://localhost:8080/"
        },
        "id": "YF8wVGxMJ1SG",
        "outputId": "d3d60747-9644-4231-9810-212ceefca1fe"
      },
      "execution_count": null,
      "outputs": [
        {
          "output_type": "stream",
          "name": "stdout",
          "text": [
            "Hello, welcome to Python!\n"
          ]
        }
      ]
    },
    {
      "cell_type": "code",
      "source": [
        "#creating a function with parameters and arguments\n",
        "def greet_person(age):\n",
        "  print(f\"my age is: {age}\")\n",
        "\n",
        "#calling function\n",
        "\n",
        "greet_person(22)"
      ],
      "metadata": {
        "colab": {
          "base_uri": "https://localhost:8080/"
        },
        "id": "Xbyly0-E2g0N",
        "outputId": "fc77207b-d9ac-4f9f-db6c-5573749ca3be"
      },
      "execution_count": null,
      "outputs": [
        {
          "output_type": "stream",
          "name": "stdout",
          "text": [
            "my age is: 22\n"
          ]
        }
      ]
    },
    {
      "cell_type": "markdown",
      "source": [
        "**[Types of function arguments](https://)**\n",
        "\n",
        "\n",
        "*   Positional Arguments\n",
        "*   Keyword arguments\n",
        "\n"
      ],
      "metadata": {
        "id": "2_utymPi4PPs"
      }
    },
    {
      "cell_type": "code",
      "source": [
        "#creating function for positional arguments\n",
        "def add(a, b):\n",
        "  return a + b\n",
        "#calling a function\n",
        "result = add(4, 5)\n",
        "print(result)"
      ],
      "metadata": {
        "colab": {
          "base_uri": "https://localhost:8080/"
        },
        "id": "xi72c_kK4NGv",
        "outputId": "3927601d-4a2c-42cc-f020-c3adb58a4ebf"
      },
      "execution_count": null,
      "outputs": [
        {
          "output_type": "stream",
          "name": "stdout",
          "text": [
            "9\n"
          ]
        }
      ]
    },
    {
      "cell_type": "code",
      "source": [
        "#keyword arguments\n",
        "#creating function for positional arguments\n",
        "def add(a, b):\n",
        "  return a + b\n",
        "#calling a function\n",
        "result = add(a=9, b=19)\n",
        "print(result)"
      ],
      "metadata": {
        "colab": {
          "base_uri": "https://localhost:8080/"
        },
        "id": "0qZ8_mO47y_t",
        "outputId": "80466e4b-add1-42a1-af5e-29412836fa20"
      },
      "execution_count": null,
      "outputs": [
        {
          "output_type": "stream",
          "name": "stdout",
          "text": [
            "28\n"
          ]
        }
      ]
    },
    {
      "cell_type": "code",
      "source": [
        "add(a=90, b=100)"
      ],
      "metadata": {
        "colab": {
          "base_uri": "https://localhost:8080/"
        },
        "id": "K1vqfPF88dHZ",
        "outputId": "2ae25d82-051c-4a8b-89fc-bbe25d1b2c62"
      },
      "execution_count": null,
      "outputs": [
        {
          "output_type": "execute_result",
          "data": {
            "text/plain": [
              "190"
            ]
          },
          "metadata": {},
          "execution_count": 23
        }
      ]
    },
    {
      "cell_type": "code",
      "source": [],
      "metadata": {
        "id": "NzeJ8Qu08dQv"
      },
      "execution_count": null,
      "outputs": []
    },
    {
      "cell_type": "markdown",
      "source": [
        "**Return statement**\n",
        "\n",
        "It allows functions to send back a result or value to the part of the program that called the function"
      ],
      "metadata": {
        "id": "V6ukmD9q5Y4R"
      }
    },
    {
      "cell_type": "markdown",
      "source": [
        "1. Task 1: Write a function that takes a list of numbers and returns both the sum and the average of the numbers."
      ],
      "metadata": {
        "id": "FcoziNNl_hhj"
      }
    },
    {
      "cell_type": "code",
      "source": [
        "def calculate_sum_average(numbers):\n",
        "  total = sum(numbers)\n",
        "  average = total/len(numbers)\n",
        "  return total, average\n",
        "\n",
        "sum, average = calculate_sum_average([1,2,3,4,5])\n",
        "print(f\"Sum: {sum}, Average: {average}\")"
      ],
      "metadata": {
        "colab": {
          "base_uri": "https://localhost:8080/"
        },
        "id": "z4dOLHZl4OQq",
        "outputId": "54a0388e-333e-4adb-95e0-4088d98b0a8b"
      },
      "execution_count": null,
      "outputs": [
        {
          "output_type": "stream",
          "name": "stdout",
          "text": [
            "Sum: 15, Average: 3.0\n"
          ]
        }
      ]
    },
    {
      "cell_type": "code",
      "source": [],
      "metadata": {
        "id": "uD-FLU2q4OcF"
      },
      "execution_count": null,
      "outputs": []
    }
  ]
}